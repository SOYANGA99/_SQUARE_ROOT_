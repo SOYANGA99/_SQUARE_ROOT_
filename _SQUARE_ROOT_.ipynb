{
 "cells": [
  {
   "cell_type": "code",
   "execution_count": 21,
   "id": "6ad13401",
   "metadata": {},
   "outputs": [
    {
     "name": "stdout",
     "output_type": "stream",
     "text": [
      "Enter a no:-25\n",
      "The sqr root of number:- 5\n"
     ]
    }
   ],
   "source": [
    "import math\n",
    "no=int(input(\"Enter a no:-\"))\n",
    "number=math.isqrt(no)\n",
    "print(\"The sqr root of number:-\",number)"
   ]
  },
  {
   "cell_type": "code",
   "execution_count": null,
   "id": "e75f88bf",
   "metadata": {},
   "outputs": [],
   "source": []
  }
 ],
 "metadata": {
  "kernelspec": {
   "display_name": "Python 3 (ipykernel)",
   "language": "python",
   "name": "python3"
  },
  "language_info": {
   "codemirror_mode": {
    "name": "ipython",
    "version": 3
   },
   "file_extension": ".py",
   "mimetype": "text/x-python",
   "name": "python",
   "nbconvert_exporter": "python",
   "pygments_lexer": "ipython3",
   "version": "3.9.7"
  }
 },
 "nbformat": 4,
 "nbformat_minor": 5
}
